{
 "cells": [
  {
   "cell_type": "code",
   "execution_count": 28,
   "id": "a9943846-c323-46c4-bd2d-403af709f000",
   "metadata": {
    "tags": []
   },
   "outputs": [],
   "source": [
    "import random\n",
    "import string\n",
    "from pathlib import Path\n",
    "import os\n",
    "import requests\n",
    "import shutil\n",
    "\n",
    "from git import Repo\n",
    "from bs4 import BeautifulSoup as Soup\n",
    "import openai\n",
    "from PIL import Image"
   ]
  },
  {
   "cell_type": "code",
   "execution_count": 29,
   "id": "5b368a03-eca6-4401-8120-192df6b450bb",
   "metadata": {
    "tags": []
   },
   "outputs": [],
   "source": [
    "openai.api_key = os.getenv('OPENAI_API_KEY')"
   ]
  },
  {
   "cell_type": "code",
   "execution_count": 30,
   "id": "01a5867c-36ba-49c9-8828-e8c5d5403faa",
   "metadata": {
    "tags": []
   },
   "outputs": [],
   "source": [
    "PATH_TO_BLOG_REPO = Path(\"/Users/kristinm/Documents/-2023-openai-course/api-stuff/oa-blog-post-creator/.git\")"
   ]
  },
  {
   "cell_type": "code",
   "execution_count": 31,
   "id": "79fbcd43-473e-40a2-98ec-f6a76fa64d8b",
   "metadata": {
    "tags": []
   },
   "outputs": [],
   "source": [
    "PATH_TO_BLOG = PATH_TO_BLOG_REPO.parent"
   ]
  },
  {
   "cell_type": "code",
   "execution_count": 32,
   "id": "3fa0275e-0a83-444f-803c-b412302d86b2",
   "metadata": {
    "tags": []
   },
   "outputs": [],
   "source": [
    "PATH_TO_CONTENT = PATH_TO_BLOG/\"content\""
   ]
  },
  {
   "cell_type": "code",
   "execution_count": 33,
   "id": "c611270a-b0e3-4183-b115-b250ae5c7703",
   "metadata": {
    "tags": []
   },
   "outputs": [
    {
     "data": {
      "text/plain": [
       "PosixPath('/Users/kristinm/Documents/-2023-openai-course/api-stuff/oa-blog-post-creator/content')"
      ]
     },
     "execution_count": 33,
     "metadata": {},
     "output_type": "execute_result"
    }
   ],
   "source": [
    "PATH_TO_CONTENT"
   ]
  },
  {
   "cell_type": "code",
   "execution_count": 34,
   "id": "18aa381a-543d-4f36-a007-27e85ef6e6aa",
   "metadata": {
    "tags": []
   },
   "outputs": [],
   "source": [
    "PATH_TO_CONTENT.mkdir(exist_ok=True,parents=True)"
   ]
  },
  {
   "cell_type": "code",
   "execution_count": 35,
   "id": "75a3d917-f674-497a-a90a-298dbb3dc1d7",
   "metadata": {
    "tags": []
   },
   "outputs": [
    {
     "data": {
      "text/plain": [
       "'sclxvnqbss'"
      ]
     },
     "execution_count": 35,
     "metadata": {},
     "output_type": "execute_result"
    }
   ],
   "source": [
    "def random_string(length):\n",
    "    letters = string.ascii_lowercase + \"\\n\"\n",
    "    \n",
    "    return ''.join(random.choice(letters) for i in range(length))\n",
    "\n",
    "random_string(10)"
   ]
  },
  {
   "cell_type": "code",
   "execution_count": 36,
   "id": "3a1e98b9-bd82-4588-89a9-9939ba175152",
   "metadata": {
    "tags": []
   },
   "outputs": [],
   "source": [
    "def update_blog(commit_message=\"Updated blog\"):\n",
    "    repo = Repo(PATH_TO_BLOG_REPO)\n",
    "    repo.git.add(all=True)\n",
    "    repo.index.commit(commit_message)\n",
    "    origin = repo.remote(name='origin')\n",
    "    origin.push()"
   ]
  },
  {
   "cell_type": "code",
   "execution_count": 37,
   "id": "9975a0d4-23de-4838-8007-7934645f8de4",
   "metadata": {
    "tags": []
   },
   "outputs": [],
   "source": [
    "random_blogpost = random_string(1000)"
   ]
  },
  {
   "cell_type": "code",
   "execution_count": 38,
   "id": "f2481123-914f-409e-9bf5-3c6b10a9482b",
   "metadata": {
    "tags": []
   },
   "outputs": [],
   "source": [
    "with open(PATH_TO_BLOG/\"index.html\", \"w\") as f:\n",
    "    f.write(random_blogpost)"
   ]
  },
  {
   "cell_type": "code",
   "execution_count": 39,
   "id": "8248df92-5d60-4970-b5c9-a75d41306f00",
   "metadata": {
    "tags": []
   },
   "outputs": [],
   "source": [
    "update_blog()"
   ]
  },
  {
   "cell_type": "code",
   "execution_count": 50,
   "id": "ccbb9da0-dd2b-431f-913e-4c8f71c6ccc0",
   "metadata": {
    "tags": []
   },
   "outputs": [],
   "source": [
    "def create_new_blog(title,content,cover_image):\n",
    "    cover_image= Path(cover_image)\n",
    "    \n",
    "    # auto file naming utility\n",
    "    files = len(list(PATH_TO_CONTENT.glob(\"*.html\")))\n",
    "    new_title = f\"{files+1}.html\"\n",
    "    path_to_new_content = PATH_TO_CONTENT/new_title\n",
    "    \n",
    "    shutil.copy(cover_image,PATH_TO_CONTENT)\n",
    "    \n",
    "    if not os.path.exists(path_to_new_content):\n",
    "        # WRITE A NEW HTML FILE\n",
    "        with open(path_to_new_content,\"w\") as f:\n",
    "            f.write(\"<!DOCTYPE html>\\n\")\n",
    "            f.write(\"<html>\\n\")\n",
    "            f.write(\"<head>\\n\")\n",
    "            f.write(f\"<title> {title} </title>\\n\")\n",
    "            f.write(\"</head>\\n\")\n",
    "            \n",
    "            f.write(\"<body>\\n\")\n",
    "            f.write(f\"<img src='{cover_image.name}' alt='Cover Image'> <br />\\n\")\n",
    "            f.write(f\"<h1> {title} </h1>\")\n",
    "            # OpenAI --->> Completion GPT -->> \"hello\\nblog post\\n\"\n",
    "            f.write(content.replace(\"\\n\", \"<br />\\n\"))\n",
    "            f.write(\"</body>\\n\")\n",
    "            f.write(\"</html>\\n\")\n",
    "            print(\"Blog created\")\n",
    "            return path_to_new_content\n",
    "    else:\n",
    "        raise FileExistsError(\"File already exists, please check again your name! Aborting!\")"
   ]
  },
  {
   "cell_type": "code",
   "execution_count": 51,
   "id": "cd938a89-6ea1-47d4-a097-3b354bdd922c",
   "metadata": {},
   "outputs": [
    {
     "name": "stdout",
     "output_type": "stream",
     "text": [
      "Blog created\n"
     ]
    }
   ],
   "source": [
    "path_to_new_content = create_new_blog('Test_title','thisisatest','templogo.png')"
   ]
  },
  {
   "cell_type": "code",
   "execution_count": 17,
   "id": "c7e92b80-5483-4547-802d-3db2f3f81370",
   "metadata": {
    "tags": []
   },
   "outputs": [],
   "source": [
    "# index.html --> Blog posts"
   ]
  },
  {
   "cell_type": "code",
   "execution_count": 52,
   "id": "75d4489d-c6ce-4de7-875b-17588f9c2f53",
   "metadata": {
    "tags": []
   },
   "outputs": [],
   "source": [
    "with open(PATH_TO_BLOG/\"index.html\") as index:\n",
    "    soup = Soup(index.read())"
   ]
  },
  {
   "cell_type": "code",
   "execution_count": 53,
   "id": "fd13f4b3-141e-4956-af47-16db9c57c89c",
   "metadata": {
    "tags": []
   },
   "outputs": [
    {
     "data": {
      "text/plain": [
       "'<!DOCTYPE html>\\n\\n<html>\\n<head>\\n<meta charset=\"utf-8\"/>\\n<meta content=\"IE=edge\" http-equiv=\"X-UA-Compatible\"/>\\n<title>Document</title>\\n<meta content=\"\" name=\"description\"/>\\n<meta content=\"width=device-width, initial-scale=1\" name=\"viewport\"/>\\n<link href=\"\" rel=\"stylesheet\"/>\\n</head>\\n<body>\\n<h1>My Blog Home Page</h1>\\n<a href=\"index.html\">Home</a>\\n</body>\\n</html>'"
      ]
     },
     "execution_count": 53,
     "metadata": {},
     "output_type": "execute_result"
    }
   ],
   "source": [
    "str(soup)"
   ]
  },
  {
   "cell_type": "code",
   "execution_count": 21,
   "id": "c4415bf9-ebb7-4dfb-9ca6-95b60176872d",
   "metadata": {
    "tags": []
   },
   "outputs": [],
   "source": [
    "# checking duplicate links"
   ]
  },
  {
   "cell_type": "code",
   "execution_count": 54,
   "id": "9a678f9a-e063-4243-9c46-b624b82af424",
   "metadata": {
    "tags": []
   },
   "outputs": [],
   "source": [
    "def check_for_duplicate_links(path_to_new_content, links):\n",
    "    urls = [str(link.get(\"href\")) for link in links]\n",
    "    content_path = str(Path(*path_to_new_content.parts[-2:]))\n",
    "    # /pathtocontent/1.html check for overwriting\n",
    "    return content_path in urls"
   ]
  },
  {
   "cell_type": "code",
   "execution_count": 55,
   "id": "9a2fc6bc-e073-402d-b7c4-41e959aee048",
   "metadata": {
    "tags": []
   },
   "outputs": [],
   "source": [
    "def write_to_index(path_to_new_content):\n",
    "    with open(PATH_TO_BLOG/\"index.html\") as index:\n",
    "        soup = Soup(index.read())\n",
    "\n",
    "    links = soup.find_all(\"a\")\n",
    "    last_link = links[-1]\n",
    "    \n",
    "    if check_for_duplicate_links(path_to_new_content, links):\n",
    "        raise ValueError(\"Link does already exist!\")\n",
    "        \n",
    "    link_to_new_blog = soup.new_tag(\"a\", href=Path(*path_to_new_content.parts[-2:]))\n",
    "    link_to_new_blog.string = path_to_new_content.name.split(\".\")[0]\n",
    "    last_link.insert_after(link_to_new_blog)\n",
    "    \n",
    "    with open(PATH_TO_BLOG/\"index.html\", \"w\") as f:\n",
    "        f.write(str(soup.prettify(formatter='html')))"
   ]
  },
  {
   "cell_type": "code",
   "execution_count": 56,
   "id": "cc978777-b5ef-49f0-88d9-01610c51ad8c",
   "metadata": {
    "tags": []
   },
   "outputs": [],
   "source": [
    "write_to_index(path_to_new_content)"
   ]
  },
  {
   "cell_type": "code",
   "execution_count": 57,
   "id": "e8bb21e1-90f5-4fa0-894f-4626d8db1ab2",
   "metadata": {
    "tags": []
   },
   "outputs": [],
   "source": [
    "update_blog()"
   ]
  },
  {
   "cell_type": "code",
   "execution_count": 58,
   "id": "b7f5ee4d-025c-42d2-839c-e80c01efd242",
   "metadata": {},
   "outputs": [],
   "source": [
    "def create_prompt(title):\n",
    "    prompt = \"\"\"\n",
    "    Biography: My name is Kristin and I am a Software Engineer with a emphasis on Devops practices.\n",
    "    \n",
    "    Blog\n",
    "    Title: {}\n",
    "    tags: tech, devops, AI, python, observability, coding\n",
    "    Summary: I talk about what the future of AI could hold for Devops\n",
    "    Full Text: \"\"\".format(title)\n",
    "    return prompt"
   ]
  },
  {
   "cell_type": "code",
   "execution_count": 59,
   "id": "55a04237-63ef-41d9-91c2-3bee50d2d239",
   "metadata": {
    "tags": []
   },
   "outputs": [
    {
     "name": "stdout",
     "output_type": "stream",
     "text": [
      "\n",
      "    Biography: My name is Kristin and I am a Software Engineer with a emphasis on Devops practices.\n",
      "    \n",
      "    Blog\n",
      "    Title: The future of devops and AI\n",
      "    tags: tech, devops, AI, python, observability, coding\n",
      "    Summary: I talk about what the future of AI could hold for Devops\n",
      "    Full Text: \n"
     ]
    }
   ],
   "source": [
    "title = \"The future of devops and AI\"\n",
    "print(create_prompt(title))"
   ]
  },
  {
   "cell_type": "code",
   "execution_count": 60,
   "id": "63bcbb9c-5b60-41dd-9fb7-5396487d2645",
   "metadata": {
    "tags": []
   },
   "outputs": [],
   "source": [
    "response = openai.Completion.create(engine='text-davinci-003',\n",
    "                                    prompt=create_prompt(title),\n",
    "                                    max_tokens=1000,\n",
    "                                    temperature=0.7)"
   ]
  },
  {
   "cell_type": "code",
   "execution_count": 61,
   "id": "71c752cb-d108-486a-a1eb-df6a6e17b60e",
   "metadata": {
    "tags": []
   },
   "outputs": [],
   "source": [
    "blog_content = response['choices'][0]['text']"
   ]
  },
  {
   "cell_type": "code",
   "execution_count": 62,
   "id": "9f327dd9-963f-4747-bde1-3eec039ac114",
   "metadata": {
    "tags": []
   },
   "outputs": [
    {
     "name": "stdout",
     "output_type": "stream",
     "text": [
      "\n",
      "    With the advent of AI technology, Devops engineers have been faced with the challenge of efficiently managing software workloads with limited resources. This has spawned a new breed of software engineering, DevOps AI, which is focused on optimizing the performance of applications by using machine learning algorithms to automate the processes associated with software deployment and operations. \n",
      "\n",
      "The combination of Devops and AI technologies has the potential to revolutionize the way software is deployed and operated. AI can be used to detect anomalies in the system, predict errors and automate processes, allowing developers to focus on the core tasks of building and deploying software. AI can also be used to optimize the performance of applications, making them more efficient and reliable. \n",
      "\n",
      "AI can also help reduce the cost of Devops by automating manual processes such as system monitoring and code deployment. This can lead to more efficient use of resources and faster delivery of software. Additionally, AI can be used to analyze the data generated by applications and detect patterns that can provide insights into how the system is performing. \n",
      "\n",
      "AI is also being used to improve the observability of applications. By using machine learning algorithms to analyze log data, Devops engineers can gain valuable insights into the system's performance and identify potential issues quickly. This can improve the overall reliability of the system and reduce the time needed to troubleshoot and fix problems. \n",
      "\n",
      "Finally, AI can be used to improve the security of applications by analyzing the data generated by the applications and detecting vulnerabilities. This can help reduce the risk of malicious attacks and protect the system from potential threats. \n",
      "\n",
      "AI is still in its early stages, but it is clear that it has the potential to revolutionize the way Devops is done. With the increasing demand for Devops engineers, it is important to understand the impact AI can have on the field. As AI continues to evolve, so will the opportunities for Devops engineers to use it to improve their work and make the work of their colleagues more efficient and reliable.\n"
     ]
    }
   ],
   "source": [
    "print(blog_content)"
   ]
  },
  {
   "cell_type": "code",
   "execution_count": 69,
   "id": "e5c561d3-ebbe-400e-9f18-322ffe11a145",
   "metadata": {
    "tags": []
   },
   "outputs": [],
   "source": [
    "def dalle2_prompt(title):\n",
    "    prompt = f\"a watercolor painting showing {title}\"\n",
    "    return prompt"
   ]
  },
  {
   "cell_type": "code",
   "execution_count": 70,
   "id": "3c73cfaa-b8fe-4184-a0d6-529ab348d671",
   "metadata": {
    "tags": []
   },
   "outputs": [],
   "source": [
    "image_prompt =  dalle2_prompt(title)"
   ]
  },
  {
   "cell_type": "code",
   "execution_count": 71,
   "id": "b436bfca-6641-4bdb-8da4-48c086023986",
   "metadata": {
    "tags": []
   },
   "outputs": [
    {
     "data": {
      "text/plain": [
       "'a watercolor painting showing The future of devops and AI'"
      ]
     },
     "execution_count": 71,
     "metadata": {},
     "output_type": "execute_result"
    }
   ],
   "source": [
    "image_prompt"
   ]
  },
  {
   "cell_type": "code",
   "execution_count": 72,
   "id": "53bffd10-def8-4b09-b4a4-97d885f44c63",
   "metadata": {
    "tags": []
   },
   "outputs": [],
   "source": [
    "response = openai.Image.create(prompt=image_prompt,\n",
    "                              n=1,size=\"512x512\")"
   ]
  },
  {
   "cell_type": "code",
   "execution_count": 73,
   "id": "fc985a2f-4da3-4b8d-bb5e-b4c7826f839e",
   "metadata": {
    "tags": []
   },
   "outputs": [],
   "source": [
    "image_url = response['data'][0]['url']"
   ]
  },
  {
   "cell_type": "code",
   "execution_count": 74,
   "id": "5adc8dff-6621-484d-a5b6-7d12354e574b",
   "metadata": {
    "tags": []
   },
   "outputs": [
    {
     "data": {
      "text/plain": [
       "'https://oaidalleapiprodscus.blob.core.windows.net/private/org-ZJxtr8k7uUYQka7iCmvXgZay/user-P0RAWNfvL0Wnea1OjOcqsSUc/img-hipwTZsXAanTzNcCXRw50jnB.png?st=2023-03-21T21%3A10%3A44Z&se=2023-03-21T23%3A10%3A44Z&sp=r&sv=2021-08-06&sr=b&rscd=inline&rsct=image/png&skoid=6aaadede-4fb3-4698-a8f6-684d7786b067&sktid=a48cca56-e6da-484e-a814-9c849652bcb3&skt=2023-03-21T16%3A01%3A47Z&ske=2023-03-22T16%3A01%3A47Z&sks=b&skv=2021-08-06&sig=H7TAjCMg6vzI8kemI1P2j/WGm5pTl41NdHDqHclBeg4%3D'"
      ]
     },
     "execution_count": 74,
     "metadata": {},
     "output_type": "execute_result"
    }
   ],
   "source": [
    "image_url"
   ]
  },
  {
   "cell_type": "code",
   "execution_count": 75,
   "id": "8ef43352-ef05-4dd8-a191-625ff292ed77",
   "metadata": {
    "tags": []
   },
   "outputs": [],
   "source": [
    "def save_image(image_url, file_name):\n",
    "    image_res = requests.get(image_url, stream = True)\n",
    "    \n",
    "    if image_res.status_code == 200:\n",
    "        with open(file_name,'wb') as f:\n",
    "            shutil.copyfileobj(image_res.raw, f)\n",
    "    else:\n",
    "        print(\"Error downloading image!\")\n",
    "    return image_res.status_code"
   ]
  },
  {
   "cell_type": "code",
   "execution_count": 76,
   "id": "ace85a8e-19cb-4cf2-9145-fa19bde5e252",
   "metadata": {
    "tags": []
   },
   "outputs": [
    {
     "data": {
      "text/plain": [
       "200"
      ]
     },
     "execution_count": 76,
     "metadata": {},
     "output_type": "execute_result"
    }
   ],
   "source": [
    "save_image(image_url,file_name=\"title2.png\")"
   ]
  },
  {
   "cell_type": "code",
   "execution_count": 77,
   "id": "7f86c785-cb38-4e00-9b54-0c11ba4482e4",
   "metadata": {
    "tags": []
   },
   "outputs": [
    {
     "data": {
      "text/plain": [
       "'The future of devops and AI'"
      ]
     },
     "execution_count": 77,
     "metadata": {},
     "output_type": "execute_result"
    }
   ],
   "source": [
    "title"
   ]
  },
  {
   "cell_type": "code",
   "execution_count": 78,
   "id": "19d25873-d665-4373-8778-2468d36e03c2",
   "metadata": {
    "tags": []
   },
   "outputs": [
    {
     "data": {
      "text/plain": [
       "\"\\n    With the advent of AI technology, Devops engineers have been faced with the challenge of efficiently managing software workloads with limited resources. This has spawned a new breed of software engineering, DevOps AI, which is focused on optimizing the performance of applications by using machine learning algorithms to automate the processes associated with software deployment and operations. \\n\\nThe combination of Devops and AI technologies has the potential to revolutionize the way software is deployed and operated. AI can be used to detect anomalies in the system, predict errors and automate processes, allowing developers to focus on the core tasks of building and deploying software. AI can also be used to optimize the performance of applications, making them more efficient and reliable. \\n\\nAI can also help reduce the cost of Devops by automating manual processes such as system monitoring and code deployment. This can lead to more efficient use of resources and faster delivery of software. Additionally, AI can be used to analyze the data generated by applications and detect patterns that can provide insights into how the system is performing. \\n\\nAI is also being used to improve the observability of applications. By using machine learning algorithms to analyze log data, Devops engineers can gain valuable insights into the system's performance and identify potential issues quickly. This can improve the overall reliability of the system and reduce the time needed to troubleshoot and fix problems. \\n\\nFinally, AI can be used to improve the security of applications by analyzing the data generated by the applications and detecting vulnerabilities. This can help reduce the risk of malicious attacks and protect the system from potential threats. \\n\\nAI is still in its early stages, but it is clear that it has the potential to revolutionize the way Devops is done. With the increasing demand for Devops engineers, it is important to understand the impact AI can have on the field. As AI continues to evolve, so will the opportunities for Devops engineers to use it to improve their work and make the work of their colleagues more efficient and reliable.\""
      ]
     },
     "execution_count": 78,
     "metadata": {},
     "output_type": "execute_result"
    }
   ],
   "source": [
    "blog_content"
   ]
  },
  {
   "cell_type": "code",
   "execution_count": 79,
   "id": "981f07e7-de04-405a-856d-c3b6d5e445ce",
   "metadata": {
    "tags": []
   },
   "outputs": [
    {
     "name": "stdout",
     "output_type": "stream",
     "text": [
      "Blog created\n"
     ]
    }
   ],
   "source": [
    "path_to_new_content = create_new_blog(title,blog_content,'title2.png')"
   ]
  },
  {
   "cell_type": "code",
   "execution_count": 80,
   "id": "31078282-fda2-41d6-a3f8-ae54575d2939",
   "metadata": {
    "tags": []
   },
   "outputs": [],
   "source": [
    "write_to_index(path_to_new_content)"
   ]
  },
  {
   "cell_type": "code",
   "execution_count": 81,
   "id": "ccd9338e-7984-40bc-82c3-cef1a4ab7dce",
   "metadata": {
    "tags": []
   },
   "outputs": [],
   "source": [
    "update_blog()"
   ]
  },
  {
   "cell_type": "code",
   "execution_count": null,
   "id": "c31b314e-6d5f-44b8-80a3-683d369bc9c6",
   "metadata": {},
   "outputs": [],
   "source": []
  }
 ],
 "metadata": {
  "kernelspec": {
   "display_name": "Python 3 (ipykernel)",
   "language": "python",
   "name": "python3"
  },
  "language_info": {
   "codemirror_mode": {
    "name": "ipython",
    "version": 3
   },
   "file_extension": ".py",
   "mimetype": "text/x-python",
   "name": "python",
   "nbconvert_exporter": "python",
   "pygments_lexer": "ipython3",
   "version": "3.11.2"
  }
 },
 "nbformat": 4,
 "nbformat_minor": 5
}
