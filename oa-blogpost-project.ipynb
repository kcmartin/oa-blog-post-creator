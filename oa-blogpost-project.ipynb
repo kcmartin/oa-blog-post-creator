{
 "cells": [
  {
   "cell_type": "code",
   "execution_count": 91,
   "id": "a9943846-c323-46c4-bd2d-403af709f000",
   "metadata": {
    "tags": []
   },
   "outputs": [],
   "source": [
    "import os\n",
    "import openai"
   ]
  },
  {
   "cell_type": "code",
   "execution_count": 92,
   "id": "5b368a03-eca6-4401-8120-192df6b450bb",
   "metadata": {
    "tags": []
   },
   "outputs": [],
   "source": [
    "openai.api_key = os.getenv('OPENAI_API_KEY')"
   ]
  },
  {
   "cell_type": "code",
   "execution_count": 93,
   "id": "7175bd00-055c-4387-911d-7e93a2d7f69a",
   "metadata": {
    "tags": []
   },
   "outputs": [],
   "source": [
    "from git import Repo"
   ]
  },
  {
   "cell_type": "code",
   "execution_count": 94,
   "id": "a16cde91-9e97-4981-bc85-8be8ad7bc129",
   "metadata": {
    "tags": []
   },
   "outputs": [],
   "source": [
    "from pathlib import Path"
   ]
  },
  {
   "cell_type": "code",
   "execution_count": 95,
   "id": "db106a24-cf63-4019-8c14-5999c18ef794",
   "metadata": {
    "tags": []
   },
   "outputs": [
    {
     "data": {
      "text/plain": [
       "'/Users/kristinm/Documents/-2023-openai-course/api-stuff/oa-blog-post-creator'"
      ]
     },
     "execution_count": 95,
     "metadata": {},
     "output_type": "execute_result"
    }
   ],
   "source": [
    "pwd"
   ]
  },
  {
   "cell_type": "code",
   "execution_count": 96,
   "id": "01a5867c-36ba-49c9-8828-e8c5d5403faa",
   "metadata": {
    "tags": []
   },
   "outputs": [],
   "source": [
    "PATH_TO_BLOG_REPO = Path(\"/Users/kristinm/Documents/-2023-openai-course/api-stuff/oa-blog-post-creator/.git\")"
   ]
  },
  {
   "cell_type": "code",
   "execution_count": 97,
   "id": "79fbcd43-473e-40a2-98ec-f6a76fa64d8b",
   "metadata": {
    "tags": []
   },
   "outputs": [],
   "source": [
    "PATH_TO_BLOG = PATH_TO_BLOG_REPO.parent"
   ]
  },
  {
   "cell_type": "code",
   "execution_count": 98,
   "id": "3fa0275e-0a83-444f-803c-b412302d86b2",
   "metadata": {
    "tags": []
   },
   "outputs": [],
   "source": [
    "PATH_TO_CONTENT = PATH_TO_BLOG/\"content\""
   ]
  },
  {
   "cell_type": "code",
   "execution_count": 99,
   "id": "c611270a-b0e3-4183-b115-b250ae5c7703",
   "metadata": {
    "tags": []
   },
   "outputs": [
    {
     "data": {
      "text/plain": [
       "PosixPath('/Users/kristinm/Documents/-2023-openai-course/api-stuff/oa-blog-post-creator/content')"
      ]
     },
     "execution_count": 99,
     "metadata": {},
     "output_type": "execute_result"
    }
   ],
   "source": [
    "PATH_TO_CONTENT"
   ]
  },
  {
   "cell_type": "code",
   "execution_count": 100,
   "id": "18aa381a-543d-4f36-a007-27e85ef6e6aa",
   "metadata": {
    "tags": []
   },
   "outputs": [],
   "source": [
    "PATH_TO_CONTENT.mkdir(exist_ok=True,parents=True)"
   ]
  },
  {
   "cell_type": "code",
   "execution_count": 101,
   "id": "6f87fbee-f357-42b0-85cd-5618ee9eedbd",
   "metadata": {
    "tags": []
   },
   "outputs": [],
   "source": [
    "def update_blog(commit_message='Updates blog'):\n",
    "    # GitPython -- Repo locations\n",
    "    repo = Repo(PATH_TO_BLOG_REPO)\n",
    "    # git add .\n",
    "    repo.git.add(all=True)\n",
    "    # git commit -m \"updates blog\"\n",
    "    repo.index.commit(commit_message)\n",
    "    # git push\n",
    "    origin = repo.remote(name='origin')\n",
    "    origin.push()"
   ]
  },
  {
   "cell_type": "code",
   "execution_count": 102,
   "id": "00d9ee34-27f9-4e95-95b5-3c4c08d59cde",
   "metadata": {
    "tags": []
   },
   "outputs": [],
   "source": [
    "random_text_string = \"kdsaflkjiewoasvantluat\""
   ]
  },
  {
   "cell_type": "code",
   "execution_count": 103,
   "id": "e5b916e0-82d1-47c8-b231-834c9a404f00",
   "metadata": {
    "tags": []
   },
   "outputs": [],
   "source": [
    "with open(PATH_TO_BLOG/\"index.html\", 'w') as f:\n",
    "    f.write(random_text_string)"
   ]
  },
  {
   "cell_type": "code",
   "execution_count": 104,
   "id": "8e69608c-63a8-41b5-8e19-b8f6b420770f",
   "metadata": {
    "tags": []
   },
   "outputs": [],
   "source": [
    "update_blog()"
   ]
  },
  {
   "cell_type": "code",
   "execution_count": 105,
   "id": "ccbb9da0-dd2b-431f-913e-4c8f71c6ccc0",
   "metadata": {
    "tags": []
   },
   "outputs": [],
   "source": [
    "import shutil\n",
    "def create_new_blog(title,content,cover_image):\n",
    "    cover_image= Path(cover_image)\n",
    "    \n",
    "    # auto file naming utility\n",
    "    files = len(list(PATH_TO_CONTENT.glob(\"*.html\")))\n",
    "    new_title = f\"{files+1}.html\"\n",
    "    path_to_new_content = PATH_TO_CONTENT/new_title\n",
    "    \n",
    "    shutil.copy(cover_image,PATH_TO_CONTENT)\n",
    "    \n",
    "    if not os.path.exists(path_to_new_content):\n",
    "        # WRITE A NEW HTML FILE\n",
    "        with open(path_to_new_content,\"w\") as f:\n",
    "            f.write(\"<!DOCTYPE html>\\n\")\n",
    "            f.write(\"<html>\\n\")\n",
    "            f.write(\"<head>\\n\")\n",
    "            f.write(f\"<title> {title} </title>\\n\")\n",
    "            f.write(\"</head>\\n\")\n",
    "            \n",
    "            f.write(\"<body>\\n\")\n",
    "            f.write(f\"<img src='{cover_image.name}' alt='Cover Image'> <br />\\n\")\n",
    "            f.write(f\"<h1> {title} </h1>\")\n",
    "            # OpenAI --->> Completion GPT -->> \"hello\\nblog post\\n\"\n",
    "            f.write(content.replace(\"\\n\", \"<br />\\n\"))\n",
    "            f.write(\"</body>\\n\")\n",
    "            f.write(\"</html>\\n\")\n",
    "            print(\"Blog created\")\n",
    "            return path_to_new_content\n",
    "    else:\n",
    "        raise FileExistsError(\"File already exists, please check again your name! Aborting!\")"
   ]
  },
  {
   "cell_type": "code",
   "execution_count": 106,
   "id": "cd938a89-6ea1-47d4-a097-3b354bdd922c",
   "metadata": {},
   "outputs": [
    {
     "name": "stdout",
     "output_type": "stream",
     "text": [
      "Blog created\n"
     ]
    }
   ],
   "source": [
    "path_to_new_content = create_new_blog('Test_title','thisisatest','templogo.png')"
   ]
  },
  {
   "cell_type": "code",
   "execution_count": 107,
   "id": "c7e92b80-5483-4547-802d-3db2f3f81370",
   "metadata": {
    "tags": []
   },
   "outputs": [],
   "source": [
    "# index.html --> Blog posts"
   ]
  },
  {
   "cell_type": "code",
   "execution_count": 108,
   "id": "36081b6e-0563-4796-a168-efef9c13972f",
   "metadata": {
    "tags": []
   },
   "outputs": [],
   "source": [
    "from bs4 import BeautifulSoup as Soup"
   ]
  },
  {
   "cell_type": "code",
   "execution_count": 109,
   "id": "75d4489d-c6ce-4de7-875b-17588f9c2f53",
   "metadata": {
    "tags": []
   },
   "outputs": [],
   "source": [
    "with open(PATH_TO_BLOG/\"index.html\") as index:\n",
    "    soup = Soup(index.read())"
   ]
  },
  {
   "cell_type": "code",
   "execution_count": 110,
   "id": "fd13f4b3-141e-4956-af47-16db9c57c89c",
   "metadata": {
    "tags": []
   },
   "outputs": [
    {
     "data": {
      "text/plain": [
       "'kdsaflkjiewoasvantluat'"
      ]
     },
     "execution_count": 110,
     "metadata": {},
     "output_type": "execute_result"
    }
   ],
   "source": [
    "str(soup)"
   ]
  },
  {
   "cell_type": "code",
   "execution_count": 111,
   "id": "c4415bf9-ebb7-4dfb-9ca6-95b60176872d",
   "metadata": {
    "tags": []
   },
   "outputs": [],
   "source": [
    "# checking duplicate links"
   ]
  },
  {
   "cell_type": "code",
   "execution_count": 112,
   "id": "9a678f9a-e063-4243-9c46-b624b82af424",
   "metadata": {
    "tags": []
   },
   "outputs": [],
   "source": [
    "def check_for_duplicate_links(path_to_new_content, links):\n",
    "    urls = [str(link.get(\"href\")) for link in links]\n",
    "    content_path = str(Path(*path_to_new_content.parts[-2:]))\n",
    "    # /pathtocontent/1.html check for overwriting\n",
    "    return content_path in urls"
   ]
  },
  {
   "cell_type": "code",
   "execution_count": 113,
   "id": "9a2fc6bc-e073-402d-b7c4-41e959aee048",
   "metadata": {
    "tags": []
   },
   "outputs": [],
   "source": [
    "def write_to_index(path_to_new_content):\n",
    "    with open(PATH_TO_BLOG/\"index.html\") as index:\n",
    "        soup = Soup(index.read())\n",
    "\n",
    "    links = soup.find_all(\"a\")\n",
    "    last_link = links[-1]\n",
    "    \n",
    "    if check_for_duplicate_links(path_to_new_content, links):\n",
    "        raise ValueError(\"Link does already exist!\")\n",
    "        \n",
    "    link_to_new_blog = soup.new_tag(\"a\", href=Path(*path_to_new_content.parts[-2:]))\n",
    "    link_to_new_blog.string = path_to_new_content.name.split(\".\")[0]\n",
    "    last_link.insert_after(link_to_new_blog)\n",
    "    \n",
    "    with open(PATH_TO_BLOG/\"index.html\", \"w\") as f:\n",
    "        f.write(str(soup.prettify(formatter='html')))\n",
    "        "
   ]
  },
  {
   "cell_type": "code",
   "execution_count": 114,
   "id": "cc978777-b5ef-49f0-88d9-01610c51ad8c",
   "metadata": {
    "tags": []
   },
   "outputs": [
    {
     "ename": "IndexError",
     "evalue": "list index out of range",
     "output_type": "error",
     "traceback": [
      "\u001b[0;31m---------------------------------------------------------------------------\u001b[0m",
      "\u001b[0;31mIndexError\u001b[0m                                Traceback (most recent call last)",
      "Cell \u001b[0;32mIn[114], line 1\u001b[0m\n\u001b[0;32m----> 1\u001b[0m \u001b[43mwrite_to_index\u001b[49m\u001b[43m(\u001b[49m\u001b[43mpath_to_new_content\u001b[49m\u001b[43m)\u001b[49m\n",
      "Cell \u001b[0;32mIn[113], line 6\u001b[0m, in \u001b[0;36mwrite_to_index\u001b[0;34m(path_to_new_content)\u001b[0m\n\u001b[1;32m      3\u001b[0m     soup \u001b[38;5;241m=\u001b[39m Soup(index\u001b[38;5;241m.\u001b[39mread())\n\u001b[1;32m      5\u001b[0m links \u001b[38;5;241m=\u001b[39m soup\u001b[38;5;241m.\u001b[39mfind_all(\u001b[38;5;124m\"\u001b[39m\u001b[38;5;124ma\u001b[39m\u001b[38;5;124m\"\u001b[39m)\n\u001b[0;32m----> 6\u001b[0m last_link \u001b[38;5;241m=\u001b[39m \u001b[43mlinks\u001b[49m\u001b[43m[\u001b[49m\u001b[38;5;241;43m-\u001b[39;49m\u001b[38;5;241;43m1\u001b[39;49m\u001b[43m]\u001b[49m\n\u001b[1;32m      8\u001b[0m \u001b[38;5;28;01mif\u001b[39;00m check_for_duplicate_links(path_to_new_content, links):\n\u001b[1;32m      9\u001b[0m     \u001b[38;5;28;01mraise\u001b[39;00m \u001b[38;5;167;01mValueError\u001b[39;00m(\u001b[38;5;124m\"\u001b[39m\u001b[38;5;124mLink does already exist!\u001b[39m\u001b[38;5;124m\"\u001b[39m)\n",
      "\u001b[0;31mIndexError\u001b[0m: list index out of range"
     ]
    }
   ],
   "source": [
    "write_to_index(path_to_new_content)"
   ]
  },
  {
   "cell_type": "code",
   "execution_count": 35,
   "id": "e8bb21e1-90f5-4fa0-894f-4626d8db1ab2",
   "metadata": {
    "tags": []
   },
   "outputs": [],
   "source": [
    "update_blog()"
   ]
  },
  {
   "cell_type": "code",
   "execution_count": 1,
   "id": "b7f5ee4d-025c-42d2-839c-e80c01efd242",
   "metadata": {},
   "outputs": [],
   "source": [
    "def create_prompt(title):\n",
    "    prompt = \"\"\"\n",
    "    Biography: My name is Kristin and I am a Software Engineer with a emphasis on Devops practices.\n",
    "    \n",
    "    Blog\n",
    "    Title: {}\n",
    "    tags: tech, devops, AI, python, observability, coding\n",
    "    Summary: I talk about what the future of AI could hold for Devops\n",
    "    Full Text: \"\"\".format(title)\n",
    "    return prompt"
   ]
  },
  {
   "cell_type": "code",
   "execution_count": 2,
   "id": "55a04237-63ef-41d9-91c2-3bee50d2d239",
   "metadata": {
    "tags": []
   },
   "outputs": [
    {
     "name": "stdout",
     "output_type": "stream",
     "text": [
      "\n",
      "    Biography: My name is Kristin and I am a Software Engineer with a emphasis on Devops practices.\n",
      "    \n",
      "    Blog\n",
      "    Title: The future of devops and AI\n",
      "    tags: tech, devops, AI, python, observability, coding\n",
      "    Summary: I talk about what the future of AI could hold for Devops\n",
      "    Full Text: \n"
     ]
    }
   ],
   "source": [
    "title = \"The future of devops and AI\"\n",
    "print(create_prompt(title))"
   ]
  },
  {
   "cell_type": "code",
   "execution_count": 6,
   "id": "63bcbb9c-5b60-41dd-9fb7-5396487d2645",
   "metadata": {
    "tags": []
   },
   "outputs": [],
   "source": [
    "response = openai.Completion.create(engine='text-davinci-003',\n",
    "                                    prompt=create_prompt(title),\n",
    "                                    max_tokens=1000,\n",
    "                                    temperature=0.7)"
   ]
  },
  {
   "cell_type": "code",
   "execution_count": 7,
   "id": "71c752cb-d108-486a-a1eb-df6a6e17b60e",
   "metadata": {
    "tags": []
   },
   "outputs": [],
   "source": [
    "blog_content = response['choices'][0]['text']"
   ]
  },
  {
   "cell_type": "code",
   "execution_count": 8,
   "id": "9f327dd9-963f-4747-bde1-3eec039ac114",
   "metadata": {
    "tags": []
   },
   "outputs": [
    {
     "name": "stdout",
     "output_type": "stream",
     "text": [
      "\n",
      "    The future of DevOps and AI is an exciting prospect for the tech industry. With the ability to automate complex tasks, DevOps practitioners can focus on more strategic tasks and create more efficient workflows. AI can also be used to create predictive models that can improve the accuracy of decisions, as well as provide better insights into the performance of applications and services. By leveraging AI, DevOps teams can identify and address areas of inefficiency and improve the overall quality of the product.\n",
      "\n",
      "AI and DevOps also go hand-in-hand when it comes to observability. By leveraging AI-driven observability solutions, DevOps teams can quickly identify issues in their environment and take corrective actions. AI-driven observability solutions are also able to detect anomalies in real-time, which helps teams stay ahead of problems and ensure that their systems remain stable.\n",
      "\n",
      "Finally, AI can also be used to automate the coding process, which can help DevOps teams accelerate the development process. By using AI-driven tools, teams can quickly create robust and reliable code that meets their requirements. This can help reduce the time-to-market and ensure that projects are completed on time.\n",
      "\n",
      "Overall, the combination of AI and DevOps creates a powerful toolset that can help teams improve their workflows and create more efficient and reliable products. With the right tools and strategies, DevOps teams can make the most of their AI investments and create more efficient and reliable applications.\n"
     ]
    }
   ],
   "source": [
    "print(blog_content)"
   ]
  },
  {
   "cell_type": "code",
   "execution_count": 32,
   "id": "e5c561d3-ebbe-400e-9f18-322ffe11a145",
   "metadata": {
    "tags": []
   },
   "outputs": [],
   "source": [
    "def dalle2_prompt(title):\n",
    "    prompt = f\"pixel digital art with no text showing {title}\"\n",
    "    return prompt"
   ]
  },
  {
   "cell_type": "code",
   "execution_count": 33,
   "id": "3c73cfaa-b8fe-4184-a0d6-529ab348d671",
   "metadata": {
    "tags": []
   },
   "outputs": [],
   "source": [
    "image_prompt =  dalle2_prompt(title)"
   ]
  },
  {
   "cell_type": "code",
   "execution_count": 34,
   "id": "b436bfca-6641-4bdb-8da4-48c086023986",
   "metadata": {
    "tags": []
   },
   "outputs": [
    {
     "data": {
      "text/plain": [
       "'pixel digital art with no text showing The future of devops and AI'"
      ]
     },
     "execution_count": 34,
     "metadata": {},
     "output_type": "execute_result"
    }
   ],
   "source": [
    "image_prompt"
   ]
  },
  {
   "cell_type": "code",
   "execution_count": 35,
   "id": "53bffd10-def8-4b09-b4a4-97d885f44c63",
   "metadata": {
    "tags": []
   },
   "outputs": [],
   "source": [
    "response = openai.Image.create(prompt=image_prompt,\n",
    "                              n=1,size=\"1024x1024\")"
   ]
  },
  {
   "cell_type": "code",
   "execution_count": 36,
   "id": "fc985a2f-4da3-4b8d-bb5e-b4c7826f839e",
   "metadata": {
    "tags": []
   },
   "outputs": [],
   "source": [
    "image_url = response['data'][0]['url']"
   ]
  },
  {
   "cell_type": "code",
   "execution_count": 37,
   "id": "5adc8dff-6621-484d-a5b6-7d12354e574b",
   "metadata": {
    "tags": []
   },
   "outputs": [
    {
     "data": {
      "text/plain": [
       "'https://oaidalleapiprodscus.blob.core.windows.net/private/org-ZJxtr8k7uUYQka7iCmvXgZay/user-P0RAWNfvL0Wnea1OjOcqsSUc/img-Y9mJ1LfQWzQgFcsWutGp9650.png?st=2023-03-21T20%3A18%3A20Z&se=2023-03-21T22%3A18%3A20Z&sp=r&sv=2021-08-06&sr=b&rscd=inline&rsct=image/png&skoid=6aaadede-4fb3-4698-a8f6-684d7786b067&sktid=a48cca56-e6da-484e-a814-9c849652bcb3&skt=2023-03-21T16%3A41%3A18Z&ske=2023-03-22T16%3A41%3A18Z&sks=b&skv=2021-08-06&sig=SQyy/9UA/dXEgrtoJ4KZuFMtvddUjbaKIpoRgJCpW1c%3D'"
      ]
     },
     "execution_count": 37,
     "metadata": {},
     "output_type": "execute_result"
    }
   ],
   "source": [
    "image_url"
   ]
  },
  {
   "cell_type": "code",
   "execution_count": 28,
   "id": "1532bd15-ee91-4e00-86cd-396c8c7e5bde",
   "metadata": {
    "tags": []
   },
   "outputs": [
    {
     "ename": "ModuleNotFoundError",
     "evalue": "No module named 'PIL'",
     "output_type": "error",
     "traceback": [
      "\u001b[0;31m---------------------------------------------------------------------------\u001b[0m",
      "\u001b[0;31mModuleNotFoundError\u001b[0m                       Traceback (most recent call last)",
      "Cell \u001b[0;32mIn[28], line 1\u001b[0m\n\u001b[0;32m----> 1\u001b[0m \u001b[38;5;28;01mfrom\u001b[39;00m \u001b[38;5;21;01mPIL\u001b[39;00m \u001b[38;5;28;01mimport\u001b[39;00m Image\n",
      "\u001b[0;31mModuleNotFoundError\u001b[0m: No module named 'PIL'"
     ]
    }
   ],
   "source": [
    "from PIL import Image"
   ]
  },
  {
   "cell_type": "code",
   "execution_count": 29,
   "id": "74ec3f71-2801-4170-a5ed-577f3a200efd",
   "metadata": {
    "tags": []
   },
   "outputs": [
    {
     "ename": "ModuleNotFoundError",
     "evalue": "No module named 'pillow'",
     "output_type": "error",
     "traceback": [
      "\u001b[0;31m---------------------------------------------------------------------------\u001b[0m",
      "\u001b[0;31mModuleNotFoundError\u001b[0m                       Traceback (most recent call last)",
      "Cell \u001b[0;32mIn[29], line 1\u001b[0m\n\u001b[0;32m----> 1\u001b[0m \u001b[38;5;28;01mfrom\u001b[39;00m \u001b[38;5;21;01mpillow\u001b[39;00m \u001b[38;5;28;01mimport\u001b[39;00m Image\n",
      "\u001b[0;31mModuleNotFoundError\u001b[0m: No module named 'pillow'"
     ]
    }
   ],
   "source": [
    "from pillow import Image"
   ]
  },
  {
   "cell_type": "code",
   "execution_count": 30,
   "id": "7d7805c6-b26f-4649-a5e9-266441724653",
   "metadata": {
    "tags": []
   },
   "outputs": [],
   "source": [
    "from PIL import Image"
   ]
  },
  {
   "cell_type": "code",
   "execution_count": 31,
   "id": "8ef43352-ef05-4dd8-a191-625ff292ed77",
   "metadata": {
    "tags": []
   },
   "outputs": [],
   "source": [
    "def save_image(image_url, file_name):\n",
    "    image_res = requests.get(image_url, stream = True)\n",
    "    \n",
    "    if image_res.status_code == 200:\n",
    "        with open(file_name,'wb') as f:\n",
    "            shutil.copyfileobj(image_res.raw, f)\n",
    "    else:\n",
    "        print(\"Error downloading image!\")\n",
    "    return image_res.status_code"
   ]
  },
  {
   "cell_type": "code",
   "execution_count": 41,
   "id": "82eedb3d-7c9c-4b4a-827b-aa35c08f2ca8",
   "metadata": {
    "tags": []
   },
   "outputs": [],
   "source": [
    "import requests\n",
    "import shutil"
   ]
  },
  {
   "cell_type": "code",
   "execution_count": 42,
   "id": "ace85a8e-19cb-4cf2-9145-fa19bde5e252",
   "metadata": {
    "tags": []
   },
   "outputs": [
    {
     "data": {
      "text/plain": [
       "200"
      ]
     },
     "execution_count": 42,
     "metadata": {},
     "output_type": "execute_result"
    }
   ],
   "source": [
    "save_image(image_url,file_name=\"title2.png\")"
   ]
  },
  {
   "cell_type": "code",
   "execution_count": null,
   "id": "7f86c785-cb38-4e00-9b54-0c11ba4482e4",
   "metadata": {},
   "outputs": [],
   "source": []
  }
 ],
 "metadata": {
  "kernelspec": {
   "display_name": "Python 3 (ipykernel)",
   "language": "python",
   "name": "python3"
  },
  "language_info": {
   "codemirror_mode": {
    "name": "ipython",
    "version": 3
   },
   "file_extension": ".py",
   "mimetype": "text/x-python",
   "name": "python",
   "nbconvert_exporter": "python",
   "pygments_lexer": "ipython3",
   "version": "3.11.2"
  }
 },
 "nbformat": 4,
 "nbformat_minor": 5
}
