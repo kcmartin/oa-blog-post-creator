{
 "cells": [
  {
   "cell_type": "code",
   "execution_count": 1,
   "id": "a9943846-c323-46c4-bd2d-403af709f000",
   "metadata": {
    "tags": []
   },
   "outputs": [],
   "source": [
    "import os\n",
    "import openai"
   ]
  },
  {
   "cell_type": "code",
   "execution_count": 2,
   "id": "5b368a03-eca6-4401-8120-192df6b450bb",
   "metadata": {
    "tags": []
   },
   "outputs": [],
   "source": [
    "openai.api_key = os.getenv('OPENAI_API_KEY')"
   ]
  },
  {
   "cell_type": "code",
   "execution_count": 3,
   "id": "7175bd00-055c-4387-911d-7e93a2d7f69a",
   "metadata": {
    "tags": []
   },
   "outputs": [],
   "source": [
    "from git import Repo"
   ]
  },
  {
   "cell_type": "code",
   "execution_count": 4,
   "id": "a16cde91-9e97-4981-bc85-8be8ad7bc129",
   "metadata": {
    "tags": []
   },
   "outputs": [],
   "source": [
    "from pathlib import Path"
   ]
  },
  {
   "cell_type": "code",
   "execution_count": 5,
   "id": "db106a24-cf63-4019-8c14-5999c18ef794",
   "metadata": {
    "tags": []
   },
   "outputs": [
    {
     "data": {
      "text/plain": [
       "'/Users/kristinm/Documents/-2023-openai-course/api-stuff/oa-blog-post-creator'"
      ]
     },
     "execution_count": 5,
     "metadata": {},
     "output_type": "execute_result"
    }
   ],
   "source": [
    "pwd"
   ]
  },
  {
   "cell_type": "code",
   "execution_count": 6,
   "id": "01a5867c-36ba-49c9-8828-e8c5d5403faa",
   "metadata": {
    "tags": []
   },
   "outputs": [],
   "source": [
    "PATH_TO_BLOG_REPO = Path(\"/Users/kristinm/Documents/-2023-openai-course/api-stuff/oa-blog-post-creator/.git\")"
   ]
  },
  {
   "cell_type": "code",
   "execution_count": 7,
   "id": "79fbcd43-473e-40a2-98ec-f6a76fa64d8b",
   "metadata": {
    "tags": []
   },
   "outputs": [],
   "source": [
    "PATH_TO_BLOG = PATH_TO_BLOG_REPO.parent"
   ]
  },
  {
   "cell_type": "code",
   "execution_count": 8,
   "id": "3fa0275e-0a83-444f-803c-b412302d86b2",
   "metadata": {
    "tags": []
   },
   "outputs": [],
   "source": [
    "PATH_TO_CONTENT = PATH_TO_BLOG/\"content\""
   ]
  },
  {
   "cell_type": "code",
   "execution_count": 9,
   "id": "c611270a-b0e3-4183-b115-b250ae5c7703",
   "metadata": {
    "tags": []
   },
   "outputs": [
    {
     "data": {
      "text/plain": [
       "PosixPath('/Users/kristinm/Documents/-2023-openai-course/api-stuff/oa-blog-post-creator/content')"
      ]
     },
     "execution_count": 9,
     "metadata": {},
     "output_type": "execute_result"
    }
   ],
   "source": [
    "PATH_TO_CONTENT"
   ]
  },
  {
   "cell_type": "code",
   "execution_count": 10,
   "id": "18aa381a-543d-4f36-a007-27e85ef6e6aa",
   "metadata": {
    "tags": []
   },
   "outputs": [],
   "source": [
    "PATH_TO_CONTENT.mkdir(exist_ok=True,parents=True)"
   ]
  },
  {
   "cell_type": "code",
   "execution_count": 11,
   "id": "6f87fbee-f357-42b0-85cd-5618ee9eedbd",
   "metadata": {
    "tags": []
   },
   "outputs": [],
   "source": [
    "def update_blog(commit_message='Updates blog'):\n",
    "    # GitPython -- Repo locations\n",
    "    repo = Repo(PATH_TO_BLOG_REPO)\n",
    "    # git add .\n",
    "    repo.git.add(all=True)\n",
    "    # git commit -m \"updates blog\"\n",
    "    repo.index.commit(commit_message)\n",
    "    # git push\n",
    "    origin = repo.remote(name='origin')\n",
    "    origin.push()"
   ]
  },
  {
   "cell_type": "code",
   "execution_count": 12,
   "id": "00d9ee34-27f9-4e95-95b5-3c4c08d59cde",
   "metadata": {
    "tags": []
   },
   "outputs": [],
   "source": [
    "random_text_string = \"kdsaflkjiewoasvantluat\""
   ]
  },
  {
   "cell_type": "code",
   "execution_count": 13,
   "id": "e5b916e0-82d1-47c8-b231-834c9a404f00",
   "metadata": {
    "tags": []
   },
   "outputs": [],
   "source": [
    "with open(PATH_TO_BLOG/\"index.html\", 'w') as f:\n",
    "    f.write(random_text_string)"
   ]
  },
  {
   "cell_type": "code",
   "execution_count": 14,
   "id": "8e69608c-63a8-41b5-8e19-b8f6b420770f",
   "metadata": {
    "tags": []
   },
   "outputs": [],
   "source": [
    "update_blog()"
   ]
  },
  {
   "cell_type": "code",
   "execution_count": 15,
   "id": "ccbb9da0-dd2b-431f-913e-4c8f71c6ccc0",
   "metadata": {
    "tags": []
   },
   "outputs": [],
   "source": [
    "import shutil\n",
    "def create_new_blog(title,content,cover_image):\n",
    "    cover_image= Path(cover_image)\n",
    "    \n",
    "    # auto file naming utility\n",
    "    files = len(list(PATH_TO_CONTENT.glob(\"*.html\")))\n",
    "    new_title = f\"{files+1}.html\"\n",
    "    path_to_new_content = PATH_TO_CONTENT/new_title\n",
    "    \n",
    "    shutil.copy(cover_image,PATH_TO_CONTENT)\n",
    "    \n",
    "    if not os.path.exists(path_to_new_content):\n",
    "        # WRITE A NEW HTML FILE\n",
    "        with open(path_to_new_content,\"w\") as f:\n",
    "            f.write(\"<!DOCTYPE html>\\n\")\n",
    "            f.write(\"<html>\\n\")\n",
    "            f.write(\"<head>\\n\")\n",
    "            f.write(f\"<title> {title} </title>\\n\")\n",
    "            f.write(\"</head>\\n\")\n",
    "            \n",
    "            f.write(\"<body>\\n\")\n",
    "            f.write(f\"<img src='{cover_image.name}' alt='Cover Image'> <br />\\n\")\n",
    "            f.write(f\"<h1> {title} </h1>\")\n",
    "            # OpenAI --->> Completion GPT -->> \"hello\\nblog post\\n\"\n",
    "            f.write(content.replace(\"\\n\", \"<br />\\n\"))\n",
    "            f.write(\"</body>\\n\")\n",
    "            f.write(\"</html>\\n\")\n",
    "            print(\"Blog created\")\n",
    "            return path_to_new_content\n",
    "    else:\n",
    "        raise FileExistsError(\"File already exists, please check again your name! Aborting!\")"
   ]
  },
  {
   "cell_type": "code",
   "execution_count": 26,
   "id": "cd938a89-6ea1-47d4-a097-3b354bdd922c",
   "metadata": {},
   "outputs": [
    {
     "name": "stdout",
     "output_type": "stream",
     "text": [
      "Blog created\n"
     ]
    }
   ],
   "source": [
    "path_to_new_content = create_new_blog('Test_title','thisisatest','templogo.png')"
   ]
  },
  {
   "cell_type": "code",
   "execution_count": 17,
   "id": "c7e92b80-5483-4547-802d-3db2f3f81370",
   "metadata": {
    "tags": []
   },
   "outputs": [],
   "source": [
    "# index.html --> Blog posts"
   ]
  },
  {
   "cell_type": "code",
   "execution_count": 22,
   "id": "36081b6e-0563-4796-a168-efef9c13972f",
   "metadata": {
    "tags": []
   },
   "outputs": [],
   "source": [
    "from bs4 import BeautifulSoup as Soup"
   ]
  },
  {
   "cell_type": "code",
   "execution_count": 27,
   "id": "75d4489d-c6ce-4de7-875b-17588f9c2f53",
   "metadata": {
    "tags": []
   },
   "outputs": [],
   "source": [
    "with open(PATH_TO_BLOG/\"index.html\") as index:\n",
    "    soup = Soup(index.read())"
   ]
  },
  {
   "cell_type": "code",
   "execution_count": 28,
   "id": "fd13f4b3-141e-4956-af47-16db9c57c89c",
   "metadata": {
    "tags": []
   },
   "outputs": [
    {
     "data": {
      "text/plain": [
       "'<!DOCTYPE html>\\n\\n<html>\\n<head>\\n<meta charset=\"utf-8\"/>\\n<meta content=\"IE=edge\" http-equiv=\"X-UA-Compatible\"/>\\n<title>Document</title>\\n<meta content=\"\" name=\"description\"/>\\n<meta content=\"width=device-width, initial-scale=1\" name=\"viewport\"/>\\n<link href=\"\" rel=\"stylesheet\"/>\\n</head>\\n<body>\\n<h1>My Blog Home Page</h1>\\n<a href=\"index.html\">Home</a>\\n</body>\\n</html>'"
      ]
     },
     "execution_count": 28,
     "metadata": {},
     "output_type": "execute_result"
    }
   ],
   "source": [
    "str(soup)"
   ]
  },
  {
   "cell_type": "code",
   "execution_count": 29,
   "id": "c4415bf9-ebb7-4dfb-9ca6-95b60176872d",
   "metadata": {
    "tags": []
   },
   "outputs": [],
   "source": [
    "# checking duplicate links"
   ]
  },
  {
   "cell_type": "code",
   "execution_count": 30,
   "id": "9a678f9a-e063-4243-9c46-b624b82af424",
   "metadata": {
    "tags": []
   },
   "outputs": [],
   "source": [
    "def check_for_duplicate_links(path_to_new_content, links):\n",
    "    urls = [str(link.get(\"href\")) for link in links]\n",
    "    content_path = str(Path(*path_to_new_content.parts[-2:]))\n",
    "    # /pathtocontent/1.html check for overwriting\n",
    "    return content_path in urls"
   ]
  },
  {
   "cell_type": "code",
   "execution_count": 33,
   "id": "9a2fc6bc-e073-402d-b7c4-41e959aee048",
   "metadata": {
    "tags": []
   },
   "outputs": [],
   "source": [
    "def write_to_index(path_to_new_content):\n",
    "    with open(PATH_TO_BLOG/\"index.html\") as index:\n",
    "        soup = Soup(index.read())\n",
    "\n",
    "    links = soup.find_all(\"a\")\n",
    "    last_link = links[-1]\n",
    "    \n",
    "    if check_for_duplicate_links(path_to_new_content, links):\n",
    "        raise ValueError(\"Link does already exist!\")\n",
    "        \n",
    "    link_to_new_blog = soup.new_tag(\"a\", href=Path(*path_to_new_content.parts[-2:]))\n",
    "    link_to_new_blog.string = path_to_new_content.name.split(\".\")[0]\n",
    "    last_link.insert_after(link_to_new_blog)\n",
    "    \n",
    "    with open(PATH_TO_BLOG/\"index.html\", \"w\") as f:\n",
    "        f.write(str(soup.prettify(formatter='html')))\n",
    "        "
   ]
  },
  {
   "cell_type": "code",
   "execution_count": 34,
   "id": "cc978777-b5ef-49f0-88d9-01610c51ad8c",
   "metadata": {
    "tags": []
   },
   "outputs": [],
   "source": [
    "write_to_index(path_to_new_content)"
   ]
  },
  {
   "cell_type": "code",
   "execution_count": 35,
   "id": "e8bb21e1-90f5-4fa0-894f-4626d8db1ab2",
   "metadata": {
    "tags": []
   },
   "outputs": [],
   "source": [
    "update_blog()"
   ]
  },
  {
   "cell_type": "code",
   "execution_count": null,
   "id": "b7f5ee4d-025c-42d2-839c-e80c01efd242",
   "metadata": {},
   "outputs": [],
   "source": []
  }
 ],
 "metadata": {
  "kernelspec": {
   "display_name": "Python 3 (ipykernel)",
   "language": "python",
   "name": "python3"
  },
  "language_info": {
   "codemirror_mode": {
    "name": "ipython",
    "version": 3
   },
   "file_extension": ".py",
   "mimetype": "text/x-python",
   "name": "python",
   "nbconvert_exporter": "python",
   "pygments_lexer": "ipython3",
   "version": "3.11.2"
  }
 },
 "nbformat": 4,
 "nbformat_minor": 5
}
